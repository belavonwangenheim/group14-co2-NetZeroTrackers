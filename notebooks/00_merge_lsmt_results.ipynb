{
 "cells": [
  {
   "cell_type": "code",
   "execution_count": null,
   "id": "1be5a7cb-940c-4f89-b7d7-ac009fd411d7",
   "metadata": {},
   "outputs": [],
   "source": [
    "## Ausführen um alle einzelnen LSMT results zusammenzuführen"
   ]
  },
  {
   "cell_type": "code",
   "execution_count": 6,
   "id": "c4dd0d44-31b8-4307-b18c-974b989b1d6a",
   "metadata": {},
   "outputs": [
    {
     "name": "stdout",
     "output_type": "stream",
     "text": [
      " Dateien fehlen für: china_rf – wird übersprungen.\n",
      " Finale Prognosedateien gespeichert:\n",
      "- ..\\data\\results\\final_result_bau.csv\n",
      "- ..\\data\\results\\final_result_measures.csv\n"
     ]
    }
   ],
   "source": [
    "import os\n",
    "import pandas as pd\n",
    "\n",
    "# Basisordner für alle Szenario-Ergebnisse (vom Notebook aus: notebooks/)\n",
    "base_folder = os.path.join(\"..\", \"data\", \"results\")\n",
    "\n",
    "# Ergebnislisten\n",
    "df_bau_all = []\n",
    "df_measures_all = []\n",
    "\n",
    "# Alle Unterordner durchsuchen, die wie szenario_prognose_<land>_lsmt benannt sind\n",
    "szenario_folders = [\n",
    "    os.path.join(base_folder, f) for f in os.listdir(base_folder)\n",
    "    if os.path.isdir(os.path.join(base_folder, f)) and f.startswith(\"szenario_prognose_\")\n",
    "]\n",
    "\n",
    "# Durch alle Länderverzeichnisse iterieren\n",
    "for folder in szenario_folders:\n",
    "    # Land extrahieren, z. B. \"china\" aus \"szenario_prognose_china_lsmt\"\n",
    "    land = folder.split(\"_prognose_\")[-1].replace(\"_lsmt\", \"\")\n",
    "\n",
    "    # Pfade zur BAU- und Maßnahmen-Datei\n",
    "    path_bau = os.path.join(folder, f\"{land}_bau.csv\")\n",
    "    path_mea = os.path.join(folder, f\"{land}_measures.csv\")\n",
    "\n",
    "    # Prüfen, ob beide Dateien existieren\n",
    "    if os.path.exists(path_bau) and os.path.exists(path_mea):\n",
    "        df_bau = pd.read_csv(path_bau)\n",
    "        df_mea = pd.read_csv(path_mea)\n",
    "\n",
    "        df_bau[\"Country\"] = land.capitalize()\n",
    "        df_mea[\"Country\"] = land.capitalize()\n",
    "\n",
    "        df_bau_all.append(df_bau)\n",
    "        df_measures_all.append(df_mea)\n",
    "    else:\n",
    "        print(f\" Dateien fehlen für: {land} – wird übersprungen.\")\n",
    "\n",
    "# Zusammenführen\n",
    "df_final_bau = pd.concat(df_bau_all, ignore_index=True)\n",
    "df_final_measures = pd.concat(df_measures_all, ignore_index=True)\n",
    "\n",
    "# Finale Pfade\n",
    "path_final_bau = os.path.join(base_folder, \"final_result_bau.csv\")\n",
    "path_final_measures = os.path.join(base_folder, \"final_result_measures.csv\")\n",
    "\n",
    "# Spaltenreihenfolge definieren\n",
    "preferred_order = [\n",
    "    \"Country\", \"Year\", \n",
    "    \"CO2_total\", \"CO2_coal\", \"CO2_oil\", \"CO2_gas\", \"CO2_cement\"\n",
    "]\n",
    "\n",
    "# Alle anderen Spalten hinten anhängen (sofern vorhanden)\n",
    "def reorder_columns(df):\n",
    "    others = [col for col in df.columns if col not in preferred_order]\n",
    "    return df[preferred_order + others]\n",
    "\n",
    "df_final_bau = reorder_columns(df_final_bau)\n",
    "df_final_measures = reorder_columns(df_final_measures)\n",
    "\n",
    "\n",
    "# Speichern\n",
    "df_final_bau.to_csv(path_final_bau, index=False)\n",
    "df_final_measures.to_csv(path_final_measures, index=False)\n",
    "\n",
    "print(\" Finale Prognosedateien gespeichert:\")\n",
    "print(\"-\", path_final_bau)\n",
    "print(\"-\", path_final_measures)"
   ]
  },
  {
   "cell_type": "code",
   "execution_count": null,
   "id": "6d0a5e53-3780-4eca-b120-14451ad39691",
   "metadata": {},
   "outputs": [],
   "source": []
  }
 ],
 "metadata": {
  "kernelspec": {
   "display_name": "Python 3 (ipykernel)",
   "language": "python",
   "name": "python3"
  },
  "language_info": {
   "codemirror_mode": {
    "name": "ipython",
    "version": 3
   },
   "file_extension": ".py",
   "mimetype": "text/x-python",
   "name": "python",
   "nbconvert_exporter": "python",
   "pygments_lexer": "ipython3",
   "version": "3.11.9"
  }
 },
 "nbformat": 4,
 "nbformat_minor": 5
}
